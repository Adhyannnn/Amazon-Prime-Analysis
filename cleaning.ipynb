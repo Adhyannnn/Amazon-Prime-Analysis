{
 "cells": [
  {
   "cell_type": "code",
   "execution_count": 47,
   "id": "1964f419",
   "metadata": {},
   "outputs": [],
   "source": [
    "import pandas as pd \n",
    "import numpy as np"
   ]
  },
  {
   "cell_type": "code",
   "execution_count": 48,
   "id": "3a9e27e0",
   "metadata": {},
   "outputs": [],
   "source": [
    "df = pd.read_csv(\"Amazon Prime Titles.csv\")"
   ]
  },
  {
   "cell_type": "code",
   "execution_count": 49,
   "id": "8c2a0027",
   "metadata": {},
   "outputs": [
    {
     "name": "stdout",
     "output_type": "stream",
     "text": [
      "<class 'pandas.core.frame.DataFrame'>\n",
      "RangeIndex: 2060 entries, 0 to 2059\n",
      "Data columns (total 12 columns):\n",
      " #   Column        Non-Null Count  Dtype  \n",
      "---  ------        --------------  -----  \n",
      " 0   show_id       1956 non-null   object \n",
      " 1   type          1957 non-null   object \n",
      " 2   title         1959 non-null   object \n",
      " 3   director      1959 non-null   object \n",
      " 4   cast          1956 non-null   object \n",
      " 5   country       1957 non-null   object \n",
      " 6   date_added    1959 non-null   object \n",
      " 7   release_year  1957 non-null   float64\n",
      " 8   rating        1954 non-null   object \n",
      " 9   duration      1960 non-null   object \n",
      " 10  listed_in     1956 non-null   object \n",
      " 11  description   1959 non-null   object \n",
      "dtypes: float64(1), object(11)\n",
      "memory usage: 193.3+ KB\n"
     ]
    }
   ],
   "source": [
    "df.info()"
   ]
  },
  {
   "cell_type": "code",
   "execution_count": 50,
   "id": "a02a8393",
   "metadata": {},
   "outputs": [
    {
     "data": {
      "text/plain": [
       "(2060, 12)"
      ]
     },
     "execution_count": 50,
     "metadata": {},
     "output_type": "execute_result"
    }
   ],
   "source": [
    "df.shape"
   ]
  },
  {
   "cell_type": "code",
   "execution_count": 51,
   "id": "89789493",
   "metadata": {},
   "outputs": [
    {
     "data": {
      "text/plain": [
       "Index(['show_id', 'type', 'title', 'director', 'cast', 'country', 'date_added',\n",
       "       'release_year', 'rating', 'duration', 'listed_in', 'description'],\n",
       "      dtype='object')"
      ]
     },
     "execution_count": 51,
     "metadata": {},
     "output_type": "execute_result"
    }
   ],
   "source": [
    "df.columns"
   ]
  },
  {
   "cell_type": "code",
   "execution_count": 52,
   "id": "2e8a8752",
   "metadata": {},
   "outputs": [
    {
     "data": {
      "text/plain": [
       "show_id          object\n",
       "type             object\n",
       "title            object\n",
       "director         object\n",
       "cast             object\n",
       "country          object\n",
       "date_added       object\n",
       "release_year    float64\n",
       "rating           object\n",
       "duration         object\n",
       "listed_in        object\n",
       "description      object\n",
       "dtype: object"
      ]
     },
     "execution_count": 52,
     "metadata": {},
     "output_type": "execute_result"
    }
   ],
   "source": [
    "df.dtypes"
   ]
  },
  {
   "cell_type": "code",
   "execution_count": 53,
   "id": "1c55c10e",
   "metadata": {},
   "outputs": [
    {
     "data": {
      "text/html": [
       "<div>\n",
       "<style scoped>\n",
       "    .dataframe tbody tr th:only-of-type {\n",
       "        vertical-align: middle;\n",
       "    }\n",
       "\n",
       "    .dataframe tbody tr th {\n",
       "        vertical-align: top;\n",
       "    }\n",
       "\n",
       "    .dataframe thead th {\n",
       "        text-align: right;\n",
       "    }\n",
       "</style>\n",
       "<table border=\"1\" class=\"dataframe\">\n",
       "  <thead>\n",
       "    <tr style=\"text-align: right;\">\n",
       "      <th></th>\n",
       "      <th>show_id</th>\n",
       "      <th>type</th>\n",
       "      <th>title</th>\n",
       "      <th>director</th>\n",
       "      <th>cast</th>\n",
       "      <th>country</th>\n",
       "      <th>date_added</th>\n",
       "      <th>release_year</th>\n",
       "      <th>rating</th>\n",
       "      <th>duration</th>\n",
       "      <th>listed_in</th>\n",
       "      <th>description</th>\n",
       "    </tr>\n",
       "  </thead>\n",
       "  <tbody>\n",
       "    <tr>\n",
       "      <th>0</th>\n",
       "      <td>s7949</td>\n",
       "      <td>TV Show</td>\n",
       "      <td>The Boat</td>\n",
       "      <td>Franky Okamura</td>\n",
       "      <td>Douglas Hodge, Akim Mogaji, Claire Higgins</td>\n",
       "      <td>Kosovo, Netherlands</td>\n",
       "      <td>July 12, 2021</td>\n",
       "      <td>2018.0</td>\n",
       "      <td>G</td>\n",
       "      <td>68 min</td>\n",
       "      <td>Arthouse, Documentary</td>\n",
       "      <td>In Tom Hammond's stolen briefcase was a photog...</td>\n",
       "    </tr>\n",
       "    <tr>\n",
       "      <th>1</th>\n",
       "      <td>s7840</td>\n",
       "      <td>TV Show</td>\n",
       "      <td>Curse of the Zodiac</td>\n",
       "      <td>Wolfgang Murnberger</td>\n",
       "      <td>Bob Probert, Joe Kocur, Don Cherry, Tie Domi, ...</td>\n",
       "      <td>NaN</td>\n",
       "      <td>June 20, 2021</td>\n",
       "      <td>NaN</td>\n",
       "      <td>TV-Y</td>\n",
       "      <td>188 min</td>\n",
       "      <td>Arts, Entertainment, and Culture</td>\n",
       "      <td>Rhythm, leading a happy life and about to have...</td>\n",
       "    </tr>\n",
       "    <tr>\n",
       "      <th>2</th>\n",
       "      <td>NaN</td>\n",
       "      <td>Movie</td>\n",
       "      <td>Peg + Cat</td>\n",
       "      <td>Sai Sekhar</td>\n",
       "      <td>Test Actor 1, Test Actor 2</td>\n",
       "      <td>United States, China</td>\n",
       "      <td>NaN</td>\n",
       "      <td>2004.0</td>\n",
       "      <td>UNRATED</td>\n",
       "      <td>108 min</td>\n",
       "      <td>Drama, Fantasy, Science Fiction</td>\n",
       "      <td>Nobody in Berlin's techno scene is better conn...</td>\n",
       "    </tr>\n",
       "    <tr>\n",
       "      <th>3</th>\n",
       "      <td>s6018</td>\n",
       "      <td>TV Show</td>\n",
       "      <td>Enchantimals Spring into Harvest Hills</td>\n",
       "      <td>Klaudia Reynicke</td>\n",
       "      <td>NaN</td>\n",
       "      <td>China, United States, United Kingdom</td>\n",
       "      <td>June 15, 2021</td>\n",
       "      <td>NaN</td>\n",
       "      <td>16+</td>\n",
       "      <td>83 min</td>\n",
       "      <td>Military and War, Special Interest</td>\n",
       "      <td>Enjoy this educational and fun compilation of ...</td>\n",
       "    </tr>\n",
       "    <tr>\n",
       "      <th>4</th>\n",
       "      <td>s8246</td>\n",
       "      <td>Movie</td>\n",
       "      <td>Highlander: The Source</td>\n",
       "      <td>Jerry Lewis</td>\n",
       "      <td>Prasenjit Chatterjee, Sabyasachi Chakrabarty, ...</td>\n",
       "      <td>Australia</td>\n",
       "      <td>April 24, 2021</td>\n",
       "      <td>1973.0</td>\n",
       "      <td>18+</td>\n",
       "      <td>125 min</td>\n",
       "      <td>Adventure, Comedy, Drama</td>\n",
       "      <td>Dive beneath the sea in search of the Tulsamer...</td>\n",
       "    </tr>\n",
       "  </tbody>\n",
       "</table>\n",
       "</div>"
      ],
      "text/plain": [
       "  show_id     type                                   title  \\\n",
       "0   s7949  TV Show                                The Boat   \n",
       "1   s7840  TV Show                     Curse of the Zodiac   \n",
       "2     NaN    Movie                               Peg + Cat   \n",
       "3   s6018  TV Show  Enchantimals Spring into Harvest Hills   \n",
       "4   s8246    Movie                  Highlander: The Source   \n",
       "\n",
       "              director                                               cast  \\\n",
       "0       Franky Okamura         Douglas Hodge, Akim Mogaji, Claire Higgins   \n",
       "1  Wolfgang Murnberger  Bob Probert, Joe Kocur, Don Cherry, Tie Domi, ...   \n",
       "2           Sai Sekhar                         Test Actor 1, Test Actor 2   \n",
       "3     Klaudia Reynicke                                                NaN   \n",
       "4          Jerry Lewis  Prasenjit Chatterjee, Sabyasachi Chakrabarty, ...   \n",
       "\n",
       "                                country      date_added  release_year  \\\n",
       "0                   Kosovo, Netherlands   July 12, 2021        2018.0   \n",
       "1                                   NaN   June 20, 2021           NaN   \n",
       "2                  United States, China             NaN        2004.0   \n",
       "3  China, United States, United Kingdom   June 15, 2021           NaN   \n",
       "4                             Australia  April 24, 2021        1973.0   \n",
       "\n",
       "    rating duration                           listed_in  \\\n",
       "0        G   68 min               Arthouse, Documentary   \n",
       "1     TV-Y  188 min    Arts, Entertainment, and Culture   \n",
       "2  UNRATED  108 min     Drama, Fantasy, Science Fiction   \n",
       "3      16+   83 min  Military and War, Special Interest   \n",
       "4      18+  125 min            Adventure, Comedy, Drama   \n",
       "\n",
       "                                         description  \n",
       "0  In Tom Hammond's stolen briefcase was a photog...  \n",
       "1  Rhythm, leading a happy life and about to have...  \n",
       "2  Nobody in Berlin's techno scene is better conn...  \n",
       "3  Enjoy this educational and fun compilation of ...  \n",
       "4  Dive beneath the sea in search of the Tulsamer...  "
      ]
     },
     "execution_count": 53,
     "metadata": {},
     "output_type": "execute_result"
    }
   ],
   "source": [
    "df.head()"
   ]
  },
  {
   "cell_type": "code",
   "execution_count": 54,
   "id": "330ece4e",
   "metadata": {},
   "outputs": [
    {
     "data": {
      "text/html": [
       "<div>\n",
       "<style scoped>\n",
       "    .dataframe tbody tr th:only-of-type {\n",
       "        vertical-align: middle;\n",
       "    }\n",
       "\n",
       "    .dataframe tbody tr th {\n",
       "        vertical-align: top;\n",
       "    }\n",
       "\n",
       "    .dataframe thead th {\n",
       "        text-align: right;\n",
       "    }\n",
       "</style>\n",
       "<table border=\"1\" class=\"dataframe\">\n",
       "  <thead>\n",
       "    <tr style=\"text-align: right;\">\n",
       "      <th></th>\n",
       "      <th>show_id</th>\n",
       "      <th>type</th>\n",
       "      <th>title</th>\n",
       "      <th>director</th>\n",
       "      <th>cast</th>\n",
       "      <th>country</th>\n",
       "      <th>date_added</th>\n",
       "      <th>release_year</th>\n",
       "      <th>rating</th>\n",
       "      <th>duration</th>\n",
       "      <th>listed_in</th>\n",
       "      <th>description</th>\n",
       "    </tr>\n",
       "  </thead>\n",
       "  <tbody>\n",
       "    <tr>\n",
       "      <th>2055</th>\n",
       "      <td>s565</td>\n",
       "      <td>Movie</td>\n",
       "      <td>Gounder Vettu Mappillai</td>\n",
       "      <td>David Mirkin</td>\n",
       "      <td>Scott McCord, Jason Deline, Julie Lemieux</td>\n",
       "      <td>United Kingdom, Hungary, United States</td>\n",
       "      <td>July 12, 2021</td>\n",
       "      <td>1992.0</td>\n",
       "      <td>NC-17</td>\n",
       "      <td>66 min</td>\n",
       "      <td>Anime, Comedy, International</td>\n",
       "      <td>Jim Carrey stars in the outrageously funny tru...</td>\n",
       "    </tr>\n",
       "    <tr>\n",
       "      <th>2056</th>\n",
       "      <td>NaN</td>\n",
       "      <td>Movie</td>\n",
       "      <td>The Invisibles</td>\n",
       "      <td>Bobby Lacer</td>\n",
       "      <td>Kirk Douglas, Bruce Dern, Bo Hopkins</td>\n",
       "      <td>Germany</td>\n",
       "      <td>March 30, 2021</td>\n",
       "      <td>1940.0</td>\n",
       "      <td>ALL</td>\n",
       "      <td>134 min</td>\n",
       "      <td>Documentary, Suspense, Unscripted</td>\n",
       "      <td>Sharecare Windows presents the beauty of the g...</td>\n",
       "    </tr>\n",
       "    <tr>\n",
       "      <th>2057</th>\n",
       "      <td>s7086</td>\n",
       "      <td>Movie</td>\n",
       "      <td>The Killer Speaks</td>\n",
       "      <td>Jodi Flynn, Brent Montgomery</td>\n",
       "      <td>Ammy Virk, Wamiqa Gabbi</td>\n",
       "      <td>Spain</td>\n",
       "      <td>April 30, 2021</td>\n",
       "      <td>1929.0</td>\n",
       "      <td>AGES_18_</td>\n",
       "      <td>192 min</td>\n",
       "      <td>Documentary, Military and War, Special Interest</td>\n",
       "      <td>As Gyaos monsters begin to attack Japan again,...</td>\n",
       "    </tr>\n",
       "    <tr>\n",
       "      <th>2058</th>\n",
       "      <td>s4612</td>\n",
       "      <td>Movie</td>\n",
       "      <td>The Night Watch</td>\n",
       "      <td>David Campion</td>\n",
       "      <td>NaN</td>\n",
       "      <td>Spain, United Kingdom, Italy</td>\n",
       "      <td>April 1, 2021</td>\n",
       "      <td>1972.0</td>\n",
       "      <td>TV-Y</td>\n",
       "      <td>120 min</td>\n",
       "      <td>Fantasy, Science Fiction, Suspense</td>\n",
       "      <td>Don't miss this action-packed thrill ride!</td>\n",
       "    </tr>\n",
       "    <tr>\n",
       "      <th>2059</th>\n",
       "      <td>s1915</td>\n",
       "      <td>TV Show</td>\n",
       "      <td>6 Below</td>\n",
       "      <td>David Greene</td>\n",
       "      <td>Daniel Craig, Olga Kurylenko, Mathieu Amalric</td>\n",
       "      <td>United States, United Kingdom, Germany</td>\n",
       "      <td>July 26, 2021</td>\n",
       "      <td>1938.0</td>\n",
       "      <td>13+</td>\n",
       "      <td>88 min</td>\n",
       "      <td>Military and War</td>\n",
       "      <td>A revenue inspector falls in love with a girl ...</td>\n",
       "    </tr>\n",
       "  </tbody>\n",
       "</table>\n",
       "</div>"
      ],
      "text/plain": [
       "     show_id     type                    title                      director  \\\n",
       "2055    s565    Movie  Gounder Vettu Mappillai                  David Mirkin   \n",
       "2056     NaN    Movie           The Invisibles                   Bobby Lacer   \n",
       "2057   s7086    Movie        The Killer Speaks  Jodi Flynn, Brent Montgomery   \n",
       "2058   s4612    Movie          The Night Watch                 David Campion   \n",
       "2059   s1915  TV Show                  6 Below                  David Greene   \n",
       "\n",
       "                                               cast  \\\n",
       "2055      Scott McCord, Jason Deline, Julie Lemieux   \n",
       "2056           Kirk Douglas, Bruce Dern, Bo Hopkins   \n",
       "2057                        Ammy Virk, Wamiqa Gabbi   \n",
       "2058                                            NaN   \n",
       "2059  Daniel Craig, Olga Kurylenko, Mathieu Amalric   \n",
       "\n",
       "                                     country      date_added  release_year  \\\n",
       "2055  United Kingdom, Hungary, United States   July 12, 2021        1992.0   \n",
       "2056                                 Germany  March 30, 2021        1940.0   \n",
       "2057                                   Spain  April 30, 2021        1929.0   \n",
       "2058            Spain, United Kingdom, Italy   April 1, 2021        1972.0   \n",
       "2059  United States, United Kingdom, Germany   July 26, 2021        1938.0   \n",
       "\n",
       "        rating duration                                        listed_in  \\\n",
       "2055     NC-17   66 min                     Anime, Comedy, International   \n",
       "2056       ALL  134 min                Documentary, Suspense, Unscripted   \n",
       "2057  AGES_18_  192 min  Documentary, Military and War, Special Interest   \n",
       "2058      TV-Y  120 min               Fantasy, Science Fiction, Suspense   \n",
       "2059       13+   88 min                                 Military and War   \n",
       "\n",
       "                                            description  \n",
       "2055  Jim Carrey stars in the outrageously funny tru...  \n",
       "2056  Sharecare Windows presents the beauty of the g...  \n",
       "2057  As Gyaos monsters begin to attack Japan again,...  \n",
       "2058         Don't miss this action-packed thrill ride!  \n",
       "2059  A revenue inspector falls in love with a girl ...  "
      ]
     },
     "execution_count": 54,
     "metadata": {},
     "output_type": "execute_result"
    }
   ],
   "source": [
    "df.tail()"
   ]
  },
  {
   "cell_type": "code",
   "execution_count": 55,
   "id": "07de343a",
   "metadata": {},
   "outputs": [
    {
     "data": {
      "text/plain": [
       "count     1954\n",
       "unique      24\n",
       "top        18+\n",
       "freq       101\n",
       "Name: rating, dtype: object"
      ]
     },
     "execution_count": 55,
     "metadata": {},
     "output_type": "execute_result"
    }
   ],
   "source": [
    "# Descriptive Statistics\n",
    "df['rating'].describe()"
   ]
  },
  {
   "cell_type": "code",
   "execution_count": 56,
   "id": "ebd292eb",
   "metadata": {},
   "outputs": [
    {
     "data": {
      "text/plain": [
       "show_id         104\n",
       "type            103\n",
       "title           101\n",
       "director        101\n",
       "cast            104\n",
       "country         103\n",
       "date_added      101\n",
       "release_year    103\n",
       "rating          106\n",
       "duration        100\n",
       "listed_in       104\n",
       "description     101\n",
       "dtype: int64"
      ]
     },
     "execution_count": 56,
     "metadata": {},
     "output_type": "execute_result"
    }
   ],
   "source": [
    "#Handling Missing Values\n",
    "\n",
    "df.isnull().sum()"
   ]
  },
  {
   "cell_type": "code",
   "execution_count": 57,
   "id": "48e61021",
   "metadata": {},
   "outputs": [],
   "source": [
    "df.dropna(subset = 'show_id',inplace = True)"
   ]
  },
  {
   "cell_type": "code",
   "execution_count": 58,
   "id": "8b0ff2f4",
   "metadata": {},
   "outputs": [],
   "source": [
    "df.dropna(subset = 'director',inplace = True)\n",
    "df.dropna(subset = 'country',inplace = True)"
   ]
  },
  {
   "cell_type": "code",
   "execution_count": 59,
   "id": "bf41283d",
   "metadata": {},
   "outputs": [],
   "source": [
    "df.dropna(subset = 'description',inplace = True)\n",
    "df.dropna(subset = 'rating',inplace = True)"
   ]
  },
  {
   "cell_type": "code",
   "execution_count": 61,
   "id": "8eb8284f",
   "metadata": {},
   "outputs": [
    {
     "data": {
      "text/plain": [
       "np.int64(160)"
      ]
     },
     "execution_count": 61,
     "metadata": {},
     "output_type": "execute_result"
    }
   ],
   "source": [
    "# handling duplicates\n",
    "df.duplicated(subset = 'show_id').sum()"
   ]
  },
  {
   "cell_type": "code",
   "execution_count": 62,
   "id": "f66d4716",
   "metadata": {},
   "outputs": [],
   "source": [
    "df.drop_duplicates(subset = 'show_id',inplace = True)"
   ]
  },
  {
   "cell_type": "code",
   "execution_count": 63,
   "id": "a67756ed",
   "metadata": {},
   "outputs": [],
   "source": [
    "df.to_csv(\"Cleaned Pandas.csv\",index = False)"
   ]
  },
  {
   "cell_type": "code",
   "execution_count": null,
   "id": "423197fd",
   "metadata": {},
   "outputs": [],
   "source": []
  }
 ],
 "metadata": {
  "kernelspec": {
   "display_name": "Python 3",
   "language": "python",
   "name": "python3"
  },
  "language_info": {
   "codemirror_mode": {
    "name": "ipython",
    "version": 3
   },
   "file_extension": ".py",
   "mimetype": "text/x-python",
   "name": "python",
   "nbconvert_exporter": "python",
   "pygments_lexer": "ipython3",
   "version": "3.13.6"
  }
 },
 "nbformat": 4,
 "nbformat_minor": 5
}
